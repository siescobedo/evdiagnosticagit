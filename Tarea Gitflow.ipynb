{
 "cells": [
  {
   "cell_type": "markdown",
   "id": "548a1376",
   "metadata": {},
   "source": [
    "# Tarea Gitflow - Sofía Escobedo"
   ]
  },
  {
   "cell_type": "code",
   "execution_count": 1,
   "id": "b6d70bbb",
   "metadata": {},
   "outputs": [],
   "source": [
    "import json\n",
    "from operator import itemgetter\n",
    "from collections import Counter"
   ]
  },
  {
   "cell_type": "code",
   "execution_count": 2,
   "id": "89f3f2b3",
   "metadata": {},
   "outputs": [],
   "source": [
    "# hay que ir linea por linea o no carga\n",
    "\n",
    "lineas = []\n",
    "for line in open('farmers-protest-tweets-2021-03-5.json', 'r'):\n",
    "    lineas.append(json.loads(line))\n"
   ]
  }
 ],
 "metadata": {
  "kernelspec": {
   "display_name": "Python 3 (ipykernel)",
   "language": "python",
   "name": "python3"
  },
  "language_info": {
   "codemirror_mode": {
    "name": "ipython",
    "version": 3
   },
   "file_extension": ".py",
   "mimetype": "text/x-python",
   "name": "python",
   "nbconvert_exporter": "python",
   "pygments_lexer": "ipython3",
   "version": "3.9.12"
  }
 },
 "nbformat": 4,
 "nbformat_minor": 5
}
